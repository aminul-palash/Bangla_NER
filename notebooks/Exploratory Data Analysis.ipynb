{
 "cells": [
  {
   "cell_type": "markdown",
   "id": "4172a097",
   "metadata": {},
   "source": [
    "## EDA ON Entity Tags From BanglaKit DATASET"
   ]
  },
  {
   "cell_type": "code",
   "execution_count": 7,
   "id": "c84a21bb",
   "metadata": {},
   "outputs": [
    {
     "name": "stdout",
     "output_type": "stream",
     "text": [
      "[\n",
      "\n"
     ]
    }
   ],
   "source": [
    "import json\n",
    "lines = []\n",
    "with open(\"merge_all_data_and_main_jsonl.json\", 'r') as file:\n",
    "    for line in file:\n",
    "        print(line)\n",
    "        break\n",
    "        \n",
    "        \n",
    "\n",
    "\n",
    "\n",
    "\n",
    "\n",
    "# for line in lines:\n",
    "#     line = json.loads(line)\n",
    "# lines[0]"
   ]
  },
  {
   "cell_type": "code",
   "execution_count": 7,
   "id": "aa27ba8c",
   "metadata": {},
   "outputs": [
    {
     "data": {
      "text/plain": [
       "'[\"অগ্রণী ব্যাংকের জ্যেষ্ঠ কর্মকর্তা পদে নিয়োগ পরীক্ষার প্রশ্নপত্র ফাঁসের অভিযোগ উঠেছে।\", [\"B-ORG\", \"L-ORG\", \"O\", \"O\", \"O\", \"O\", \"O\", \"O\", \"O\", \"O\", \"O\", \"O\"]]'"
      ]
     },
     "execution_count": 7,
     "metadata": {},
     "output_type": "execute_result"
    }
   ],
   "source": [
    "import json\n",
    "lines = []\n",
    "with open(\"../data/main.jsonl\", 'r') as file:\n",
    "    for line in file:\n",
    "        line = line.strip()  \n",
    "        lines.append(line)\n",
    "lines[0]"
   ]
  },
  {
   "cell_type": "markdown",
   "id": "0bb75ca8",
   "metadata": {},
   "source": [
    "### Total Number of sentences"
   ]
  },
  {
   "cell_type": "code",
   "execution_count": 8,
   "id": "433475dc",
   "metadata": {},
   "outputs": [
    {
     "data": {
      "text/plain": [
       "3545"
      ]
     },
     "execution_count": 8,
     "metadata": {},
     "output_type": "execute_result"
    }
   ],
   "source": [
    "len(lines)"
   ]
  },
  {
   "cell_type": "code",
   "execution_count": 9,
   "id": "198515c6",
   "metadata": {},
   "outputs": [
    {
     "data": {
      "text/plain": [
       "63109"
      ]
     },
     "execution_count": 9,
     "metadata": {},
     "output_type": "execute_result"
    }
   ],
   "source": [
    "from collections import defaultdict\n",
    "unique_labels = defaultdict(int)\n",
    "for line in lines:\n",
    "    line = json.loads(line)\n",
    "    text, labels = line[0], line[1]\n",
    "    for label in labels:\n",
    "        unique_labels[label] = unique_labels[label] + 1\n",
    "        \n",
    "unique_labels['O']"
   ]
  },
  {
   "cell_type": "code",
   "execution_count": 10,
   "id": "d50c4bc6",
   "metadata": {},
   "outputs": [],
   "source": [
    "# removing no entity label as it is huge compare to other label\n",
    "del unique_labels['O']"
   ]
  },
  {
   "cell_type": "code",
   "execution_count": 12,
   "id": "6e146a13",
   "metadata": {},
   "outputs": [
    {
     "data": {
      "image/png": "[encoded data removed]",
      "text/plain": [
       "<Figure size 432x288 with 1 Axes>"
      ]
     },
     "metadata": {
      "needs_background": "light"
     },
     "output_type": "display_data"
    }
   ],
   "source": [
    "import matplotlib.pyplot as plt\n",
    "\n",
    "def plot_bar_chart(data_dict):\n",
    "    keys = data_dict.keys()\n",
    "    values = data_dict.values()\n",
    "    \n",
    "    plt.bar(keys, values)\n",
    "    plt.xlabel('Entity labels')\n",
    "    plt.ylabel('Frequency')\n",
    "    plt.title('Bar Chart of Entity and Frequency pair of BanglaKit Dataset')\n",
    "    plt.xticks(rotation=45)\n",
    "    plt.show()\n",
    "\n",
    "plot_bar_chart(unique_labels)\n"
   ]
  },
  {
   "cell_type": "markdown",
   "id": "ed38b339",
   "metadata": {},
   "source": [
    "## EDA ON ENTITY LABELS ON BENGALI-NER DATASET"
   ]
  },
  {
   "cell_type": "code",
   "execution_count": 15,
   "id": "68ce062c",
   "metadata": {},
   "outputs": [
    {
     "data": {
      "text/plain": [
       "96660"
      ]
     },
     "execution_count": 15,
     "metadata": {},
     "output_type": "execute_result"
    }
   ],
   "source": [
    "lines = []\n",
    "unique_label_banglaner = defaultdict(int)\n",
    "with open(\"../data/all_data.txt\", 'r') as file:\n",
    "    for line in file:\n",
    "        line = line.strip()\n",
    "        line = line.replace('\\ufeff', '')\n",
    "        if not line or len(line.split('\\t')) != 2:\n",
    "            continue\n",
    "            \n",
    "        text, tag = line.split('\\t')\n",
    "        \n",
    "        unique_label_banglaner[tag] = unique_label_banglaner[tag] + 1\n",
    "        lines.append(line)\n",
    "        \n",
    "len(lines)"
   ]
  },
  {
   "cell_type": "code",
   "execution_count": 16,
   "id": "4fa97b2c",
   "metadata": {},
   "outputs": [],
   "source": [
    "del unique_label_banglaner['O']"
   ]
  },
  {
   "cell_type": "code",
   "execution_count": null,
   "id": "c753ef73",
   "metadata": {},
   "outputs": [],
   "source": [
    "import matplotlib.pyplot as plt\n",
    "\n",
    "def plot_bar_chart(data_dict):\n",
    "    keys = data_dict.keys()\n",
    "    values = data_dict.values()\n",
    "    \n",
    "    plt.bar(keys, values)\n",
    "    plt.xlabel('Entity labels')\n",
    "    plt.ylabel('Frequency')\n",
    "    plt.title('Bar Chart of Entity and Frequency pair of Bengali-NER Dataset')\n",
    "    plt.xticks(rotation=45)"
   ]
  },
  {
   "cell_type": "code",
   "execution_count": null,
   "id": "19dcecf0",
   "metadata": {},
   "outputs": [],
   "source": []
  },
  {
   "cell_type": "code",
   "execution_count": 17,
   "id": "66e1d6ff",
   "metadata": {},
   "outputs": [
    {
     "data": {
      "image/png": "[encoded data removed]",
      "text/plain": [
       "<Figure size 432x288 with 1 Axes>"
      ]
     },
     "metadata": {
      "needs_background": "light"
     },
     "output_type": "display_data"
    }
   ],
   "source": [
    "    plt.show()\n",
    "\n",
    "plot_bar_chart(unique_label_banglaner)"
   ]
  },
  {
   "cell_type": "markdown",
   "id": "ae43856c",
   "metadata": {},
   "source": [
    "## Findings\n",
    "\n",
    "Number of entity labels are not properly distributed and equal. As currently we are focusing only person entity label. So we can discard other entity label."
   ]
  },
  {
   "cell_type": "code",
   "execution_count": 3,
   "id": "4601c0fe",
   "metadata": {},
   "outputs": [
    {
     "name": "stdout",
     "output_type": "stream",
     "text": [
      "Requirement already satisfied: spacy in /home/aminul/anaconda3/lib/python3.9/site-packages (3.5.3)\n",
      "Requirement already satisfied: smart-open<7.0.0,>=5.2.1 in /home/aminul/anaconda3/lib/python3.9/site-packages (from spacy) (6.3.0)\n",
      "Requirement already satisfied: murmurhash<1.1.0,>=0.28.0 in /home/aminul/anaconda3/lib/python3.9/site-packages (from spacy) (1.0.9)\n",
      "Requirement already satisfied: numpy>=1.15.0 in /home/aminul/anaconda3/lib/python3.9/site-packages (from spacy) (1.21.5)\n",
      "Requirement already satisfied: spacy-loggers<2.0.0,>=1.0.0 in /home/aminul/anaconda3/lib/python3.9/site-packages (from spacy) (1.0.4)\n",
      "Requirement already satisfied: catalogue<2.1.0,>=2.0.6 in /home/aminul/anaconda3/lib/python3.9/site-packages (from spacy) (2.0.8)\n",
      "Requirement already satisfied: langcodes<4.0.0,>=3.2.0 in /home/aminul/anaconda3/lib/python3.9/site-packages (from spacy) (3.3.0)\n",
      "Requirement already satisfied: wasabi<1.2.0,>=0.9.1 in /home/aminul/anaconda3/lib/python3.9/site-packages (from spacy) (1.1.2)\n",
      "Requirement already satisfied: packaging>=20.0 in /home/aminul/anaconda3/lib/python3.9/site-packages (from spacy) (21.3)\n",
      "Requirement already satisfied: typer<0.8.0,>=0.3.0 in /home/aminul/anaconda3/lib/python3.9/site-packages (from spacy) (0.7.0)\n",
      "Requirement already satisfied: setuptools in /home/aminul/anaconda3/lib/python3.9/site-packages (from spacy) (61.2.0)\n",
      "Requirement already satisfied: tqdm<5.0.0,>=4.38.0 in /home/aminul/anaconda3/lib/python3.9/site-packages (from spacy) (4.64.0)\n",
      "Requirement already satisfied: srsly<3.0.0,>=2.4.3 in /home/aminul/anaconda3/lib/python3.9/site-packages (from spacy) (2.4.6)\n",
      "Requirement already satisfied: requests<3.0.0,>=2.13.0 in /home/aminul/anaconda3/lib/python3.9/site-packages (from spacy) (2.27.1)\n",
      "Requirement already satisfied: preshed<3.1.0,>=3.0.2 in /home/aminul/anaconda3/lib/python3.9/site-packages (from spacy) (3.0.8)\n",
      "Requirement already satisfied: cymem<2.1.0,>=2.0.2 in /home/aminul/anaconda3/lib/python3.9/site-packages (from spacy) (2.0.7)\n",
      "Requirement already satisfied: thinc<8.2.0,>=8.1.8 in /home/aminul/anaconda3/lib/python3.9/site-packages (from spacy) (8.1.10)\n",
      "Requirement already satisfied: pydantic!=1.8,!=1.8.1,<1.11.0,>=1.7.4 in /home/aminul/anaconda3/lib/python3.9/site-packages (from spacy) (1.10.9)\n",
      "Requirement already satisfied: jinja2 in /home/aminul/anaconda3/lib/python3.9/site-packages (from spacy) (2.11.3)\n",
      "Requirement already satisfied: spacy-legacy<3.1.0,>=3.0.11 in /home/aminul/anaconda3/lib/python3.9/site-packages (from spacy) (3.0.12)\n",
      "Requirement already satisfied: pathy>=0.10.0 in /home/aminul/anaconda3/lib/python3.9/site-packages (from spacy) (0.10.2)\n",
      "Requirement already satisfied: pyparsing!=3.0.5,>=2.0.2 in /home/aminul/anaconda3/lib/python3.9/site-packages (from packaging>=20.0->spacy) (3.0.4)\n",
      "Requirement already satisfied: typing-extensions>=4.2.0 in /home/aminul/anaconda3/lib/python3.9/site-packages (from pydantic!=1.8,!=1.8.1,<1.11.0,>=1.7.4->spacy) (4.6.3)\n",
      "Requirement already satisfied: charset-normalizer~=2.0.0 in /home/aminul/anaconda3/lib/python3.9/site-packages (from requests<3.0.0,>=2.13.0->spacy) (2.0.4)\n",
      "Requirement already satisfied: certifi>=2017.4.17 in /home/aminul/anaconda3/lib/python3.9/site-packages (from requests<3.0.0,>=2.13.0->spacy) (2021.10.8)\n",
      "Requirement already satisfied: idna<4,>=2.5 in /home/aminul/anaconda3/lib/python3.9/site-packages (from requests<3.0.0,>=2.13.0->spacy) (3.3)\n",
      "Requirement already satisfied: urllib3<1.27,>=1.21.1 in /home/aminul/anaconda3/lib/python3.9/site-packages (from requests<3.0.0,>=2.13.0->spacy) (1.26.9)\n",
      "Requirement already satisfied: blis<0.8.0,>=0.7.8 in /home/aminul/anaconda3/lib/python3.9/site-packages (from thinc<8.2.0,>=8.1.8->spacy) (0.7.9)\n",
      "Requirement already satisfied: confection<1.0.0,>=0.0.1 in /home/aminul/anaconda3/lib/python3.9/site-packages (from thinc<8.2.0,>=8.1.8->spacy) (0.0.4)\n",
      "Requirement already satisfied: click<9.0.0,>=7.1.1 in /home/aminul/anaconda3/lib/python3.9/site-packages (from typer<0.8.0,>=0.3.0->spacy) (8.0.4)\n",
      "Requirement already satisfied: MarkupSafe>=0.23 in /home/aminul/anaconda3/lib/python3.9/site-packages (from jinja2->spacy) (2.0.1)\n",
      "Collecting spacy-transformers\n",
      "  Using cached spacy_transformers-1.2.5-cp39-cp39-manylinux_2_17_x86_64.manylinux2014_x86_64.whl (193 kB)\n",
      "Requirement already satisfied: transformers<4.31.0,>=3.4.0 in /home/aminul/anaconda3/lib/python3.9/site-packages (from spacy-transformers) (4.30.2)\n",
      "Requirement already satisfied: spacy<4.0.0,>=3.5.0 in /home/aminul/anaconda3/lib/python3.9/site-packages (from spacy-transformers) (3.5.3)\n",
      "Collecting torch>=1.8.0\n",
      "  Downloading torch-2.0.1-cp39-cp39-manylinux1_x86_64.whl (619.9 MB)\n",
      "\u001b[K     |██▉                             | 54.2 MB 10 kB/s eta 14:58:263\u001b[31mERROR: Exception:\n",
      "Traceback (most recent call last):\n",
      "  File \"/home/aminul/anaconda3/lib/python3.9/site-packages/pip/_vendor/urllib3/response.py\", line 438, in _error_catcher\n",
      "    yield\n",
      "  File \"/home/aminul/anaconda3/lib/python3.9/site-packages/pip/_vendor/urllib3/response.py\", line 519, in read\n",
      "    data = self._fp.read(amt) if not fp_closed else b\"\"\n",
      "  File \"/home/aminul/anaconda3/lib/python3.9/site-packages/pip/_vendor/cachecontrol/filewrapper.py\", line 62, in read\n",
      "    data = self.__fp.read(amt)\n",
      "  File \"/home/aminul/anaconda3/lib/python3.9/http/client.py\", line 463, in read\n",
      "    n = self.readinto(b)\n",
      "  File \"/home/aminul/anaconda3/lib/python3.9/http/client.py\", line 507, in readinto\n",
      "    n = self.fp.readinto(b)\n",
      "  File \"/home/aminul/anaconda3/lib/python3.9/socket.py\", line 704, in readinto\n",
      "    return self._sock.recv_into(b)\n",
      "  File \"/home/aminul/anaconda3/lib/python3.9/ssl.py\", line 1241, in recv_into\n",
      "    return self.read(nbytes, buffer)\n",
      "  File \"/home/aminul/anaconda3/lib/python3.9/ssl.py\", line 1099, in read\n",
      "    return self._sslobj.read(len, buffer)\n",
      "socket.timeout: The read operation timed out\n",
      "\n",
      "During handling of the above exception, another exception occurred:\n",
      "\n",
      "Traceback (most recent call last):\n",
      "  File \"/home/aminul/anaconda3/lib/python3.9/site-packages/pip/_internal/cli/base_command.py\", line 173, in _main\n",
      "    status = self.run(options, args)\n",
      "  File \"/home/aminul/anaconda3/lib/python3.9/site-packages/pip/_internal/cli/req_command.py\", line 203, in wrapper\n",
      "    return func(self, options, args)\n",
      "  File \"/home/aminul/anaconda3/lib/python3.9/site-packages/pip/_internal/commands/install.py\", line 315, in run\n",
      "    requirement_set = resolver.resolve(\n",
      "  File \"/home/aminul/anaconda3/lib/python3.9/site-packages/pip/_internal/resolution/resolvelib/resolver.py\", line 94, in resolve\n",
      "    result = self._result = resolver.resolve(\n",
      "  File \"/home/aminul/anaconda3/lib/python3.9/site-packages/pip/_vendor/resolvelib/resolvers.py\", line 472, in resolve\n",
      "    state = resolution.resolve(requirements, max_rounds=max_rounds)\n",
      "  File \"/home/aminul/anaconda3/lib/python3.9/site-packages/pip/_vendor/resolvelib/resolvers.py\", line 366, in resolve\n",
      "    failure_causes = self._attempt_to_pin_criterion(name)\n",
      "  File \"/home/aminul/anaconda3/lib/python3.9/site-packages/pip/_vendor/resolvelib/resolvers.py\", line 212, in _attempt_to_pin_criterion\n",
      "    criteria = self._get_updated_criteria(candidate)\n",
      "  File \"/home/aminul/anaconda3/lib/python3.9/site-packages/pip/_vendor/resolvelib/resolvers.py\", line 203, in _get_updated_criteria\n",
      "    self._add_to_criteria(criteria, requirement, parent=candidate)\n",
      "  File \"/home/aminul/anaconda3/lib/python3.9/site-packages/pip/_vendor/resolvelib/resolvers.py\", line 172, in _add_to_criteria\n",
      "    if not criterion.candidates:\n",
      "  File \"/home/aminul/anaconda3/lib/python3.9/site-packages/pip/_vendor/resolvelib/structs.py\", line 151, in __bool__\n",
      "    return bool(self._sequence)\n",
      "  File \"/home/aminul/anaconda3/lib/python3.9/site-packages/pip/_internal/resolution/resolvelib/found_candidates.py\", line 140, in __bool__\n",
      "    return any(self)\n",
      "  File \"/home/aminul/anaconda3/lib/python3.9/site-packages/pip/_internal/resolution/resolvelib/found_candidates.py\", line 128, in <genexpr>\n",
      "    return (c for c in iterator if id(c) not in self._incompatible_ids)\n",
      "  File \"/home/aminul/anaconda3/lib/python3.9/site-packages/pip/_internal/resolution/resolvelib/found_candidates.py\", line 32, in _iter_built\n",
      "    candidate = func()\n",
      "  File \"/home/aminul/anaconda3/lib/python3.9/site-packages/pip/_internal/resolution/resolvelib/factory.py\", line 204, in _make_candidate_from_link\n",
      "    self._link_candidate_cache[link] = LinkCandidate(\n",
      "  File \"/home/aminul/anaconda3/lib/python3.9/site-packages/pip/_internal/resolution/resolvelib/candidates.py\", line 295, in __init__\n",
      "    super().__init__(\n",
      "  File \"/home/aminul/anaconda3/lib/python3.9/site-packages/pip/_internal/resolution/resolvelib/candidates.py\", line 156, in __init__\n",
      "    self.dist = self._prepare()\n",
      "  File \"/home/aminul/anaconda3/lib/python3.9/site-packages/pip/_internal/resolution/resolvelib/candidates.py\", line 227, in _prepare\n",
      "    dist = self._prepare_distribution()\n",
      "  File \"/home/aminul/anaconda3/lib/python3.9/site-packages/pip/_internal/resolution/resolvelib/candidates.py\", line 305, in _prepare_distribution\n",
      "    return self._factory.preparer.prepare_linked_requirement(\n",
      "  File \"/home/aminul/anaconda3/lib/python3.9/site-packages/pip/_internal/operations/prepare.py\", line 508, in prepare_linked_requirement\n",
      "    return self._prepare_linked_requirement(req, parallel_builds)\n",
      "  File \"/home/aminul/anaconda3/lib/python3.9/site-packages/pip/_internal/operations/prepare.py\", line 550, in _prepare_linked_requirement\n",
      "    local_file = unpack_url(\n",
      "  File \"/home/aminul/anaconda3/lib/python3.9/site-packages/pip/_internal/operations/prepare.py\", line 239, in unpack_url\n",
      "    file = get_http_url(\n",
      "  File \"/home/aminul/anaconda3/lib/python3.9/site-packages/pip/_internal/operations/prepare.py\", line 102, in get_http_url\n",
      "    from_path, content_type = download(link, temp_dir.path)\n",
      "  File \"/home/aminul/anaconda3/lib/python3.9/site-packages/pip/_internal/network/download.py\", line 145, in __call__\n",
      "    for chunk in chunks:\n",
      "  File \"/home/aminul/anaconda3/lib/python3.9/site-packages/pip/_internal/cli/progress_bars.py\", line 144, in iter\n",
      "    for x in it:\n",
      "  File \"/home/aminul/anaconda3/lib/python3.9/site-packages/pip/_internal/network/utils.py\", line 63, in response_chunks\n",
      "    for chunk in response.raw.stream(\n",
      "  File \"/home/aminul/anaconda3/lib/python3.9/site-packages/pip/_vendor/urllib3/response.py\", line 576, in stream\n",
      "    data = self.read(amt=amt, decode_content=decode_content)\n",
      "  File \"/home/aminul/anaconda3/lib/python3.9/site-packages/pip/_vendor/urllib3/response.py\", line 541, in read\n",
      "    raise IncompleteRead(self._fp_bytes_read, self.length_remaining)\n",
      "  File \"/home/aminul/anaconda3/lib/python3.9/contextlib.py\", line 137, in __exit__\n",
      "    self.gen.throw(typ, value, traceback)\n",
      "  File \"/home/aminul/anaconda3/lib/python3.9/site-packages/pip/_vendor/urllib3/response.py\", line 443, in _error_catcher\n",
      "    raise ReadTimeoutError(self._pool, None, \"Read timed out.\")\n",
      "pip._vendor.urllib3.exceptions.ReadTimeoutError: HTTPSConnectionPool(host='files.pythonhosted.org', port=443): Read timed out.\u001b[0m\n"
     ]
    }
   ],
   "source": [
    "!pip install  spacy\n",
    "!pip install spacy-transformers"
   ]
  },
  {
   "cell_type": "code",
   "execution_count": null,
   "id": "b987b777",
   "metadata": {},
   "outputs": [],
   "source": []
  },
  {
   "cell_type": "code",
   "execution_count": null,
   "id": "543bd871",
   "metadata": {},
   "outputs": [],
   "source": []
  },
  {
   "cell_type": "code",
   "execution_count": 4,
   "id": "a6c2fb59",
   "metadata": {},
   "outputs": [
    {
     "ename": "ValueError",
     "evalue": "[E002] Can't find factory for 'transformer' for language Bengali (bn). This usually happens when spaCy calls `nlp.create_pipe` with a custom component name that's not registered on the current language class. If you're using a Transformer, make sure to install 'spacy-transformers'. If you're using a custom component, make sure you've added the decorator `@Language.component` (for function components) or `@Language.factory` (for class components).\n\nAvailable factories: attribute_ruler, tok2vec, merge_noun_chunks, merge_entities, merge_subtokens, token_splitter, doc_cleaner, parser, beam_parser, lemmatizer, trainable_lemmatizer, entity_linker, ner, beam_ner, entity_ruler, tagger, morphologizer, senter, sentencizer, textcat, spancat, spancat_singlelabel, future_entity_ruler, span_ruler, textcat_multilabel, bn.lemmatizer",
     "output_type": "error",
     "traceback": [
      "\u001b[0;31m---------------------------------------------------------------------------\u001b[0m",
      "\u001b[0;31mValueError\u001b[0m                                Traceback (most recent call last)",
      "Input \u001b[0;32mIn [4]\u001b[0m, in \u001b[0;36m<cell line: 3>\u001b[0;34m()\u001b[0m\n\u001b[1;32m      1\u001b[0m \u001b[38;5;28;01mimport\u001b[39;00m \u001b[38;5;21;01mspacy\u001b[39;00m\n\u001b[0;32m----> 3\u001b[0m nlp \u001b[38;5;241m=\u001b[39m \u001b[43mspacy\u001b[49m\u001b[38;5;241;43m.\u001b[39;49m\u001b[43mload\u001b[49m\u001b[43m(\u001b[49m\u001b[38;5;124;43m\"\u001b[39;49m\u001b[38;5;124;43mmodel-best\u001b[39;49m\u001b[38;5;124;43m\"\u001b[39;49m\u001b[43m)\u001b[49m\n\u001b[1;32m      5\u001b[0m text_list \u001b[38;5;241m=\u001b[39m [\n\u001b[1;32m      6\u001b[0m     \u001b[38;5;124m\"\u001b[39m\u001b[38;5;124mবিএনপি নেতাদের সবচেয়ে বড় দুর্বলতা তাঁরা রাজনৈতিক কর্মী আর সন্ত্রাসী গুলিয়ে ফেলেছেন বলে মন্তব্য করেছেন তথ্যমন্ত্রী হাছান মাহমুদ\u001b[39m\u001b[38;5;124m\"\u001b[39m,\n\u001b[1;32m      7\u001b[0m     \u001b[38;5;124m\"\u001b[39m\u001b[38;5;124mআব্দুর রহিম নামের কাস্টমারকে একশ টাকা বাকি দিলাম\u001b[39m\u001b[38;5;124m\"\u001b[39m,\n\u001b[0;32m   (...)\u001b[0m\n\u001b[1;32m     13\u001b[0m \n\u001b[1;32m     14\u001b[0m ]\n\u001b[1;32m     15\u001b[0m \u001b[38;5;28;01mfor\u001b[39;00m text \u001b[38;5;129;01min\u001b[39;00m text_list:\n",
      "File \u001b[0;32m~/anaconda3/lib/python3.9/site-packages/spacy/__init__.py:54\u001b[0m, in \u001b[0;36mload\u001b[0;34m(name, vocab, disable, enable, exclude, config)\u001b[0m\n\u001b[1;32m     30\u001b[0m \u001b[38;5;28;01mdef\u001b[39;00m \u001b[38;5;21mload\u001b[39m(\n\u001b[1;32m     31\u001b[0m     name: Union[\u001b[38;5;28mstr\u001b[39m, Path],\n\u001b[1;32m     32\u001b[0m     \u001b[38;5;241m*\u001b[39m,\n\u001b[0;32m   (...)\u001b[0m\n\u001b[1;32m     37\u001b[0m     config: Union[Dict[\u001b[38;5;28mstr\u001b[39m, Any], Config] \u001b[38;5;241m=\u001b[39m util\u001b[38;5;241m.\u001b[39mSimpleFrozenDict(),\n\u001b[1;32m     38\u001b[0m ) \u001b[38;5;241m-\u001b[39m\u001b[38;5;241m>\u001b[39m Language:\n\u001b[1;32m     39\u001b[0m     \u001b[38;5;124;03m\"\"\"Load a spaCy model from an installed package or a local path.\u001b[39;00m\n\u001b[1;32m     40\u001b[0m \n\u001b[1;32m     41\u001b[0m \u001b[38;5;124;03m    name (str): Package name or model path.\u001b[39;00m\n\u001b[0;32m   (...)\u001b[0m\n\u001b[1;32m     52\u001b[0m \u001b[38;5;124;03m    RETURNS (Language): The loaded nlp object.\u001b[39;00m\n\u001b[1;32m     53\u001b[0m \u001b[38;5;124;03m    \"\"\"\u001b[39;00m\n\u001b[0;32m---> 54\u001b[0m     \u001b[38;5;28;01mreturn\u001b[39;00m \u001b[43mutil\u001b[49m\u001b[38;5;241;43m.\u001b[39;49m\u001b[43mload_model\u001b[49m\u001b[43m(\u001b[49m\n\u001b[1;32m     55\u001b[0m \u001b[43m        \u001b[49m\u001b[43mname\u001b[49m\u001b[43m,\u001b[49m\n\u001b[1;32m     56\u001b[0m \u001b[43m        \u001b[49m\u001b[43mvocab\u001b[49m\u001b[38;5;241;43m=\u001b[39;49m\u001b[43mvocab\u001b[49m\u001b[43m,\u001b[49m\n\u001b[1;32m     57\u001b[0m \u001b[43m        \u001b[49m\u001b[43mdisable\u001b[49m\u001b[38;5;241;43m=\u001b[39;49m\u001b[43mdisable\u001b[49m\u001b[43m,\u001b[49m\n\u001b[1;32m     58\u001b[0m \u001b[43m        \u001b[49m\u001b[43menable\u001b[49m\u001b[38;5;241;43m=\u001b[39;49m\u001b[43menable\u001b[49m\u001b[43m,\u001b[49m\n\u001b[1;32m     59\u001b[0m \u001b[43m        \u001b[49m\u001b[43mexclude\u001b[49m\u001b[38;5;241;43m=\u001b[39;49m\u001b[43mexclude\u001b[49m\u001b[43m,\u001b[49m\n\u001b[1;32m     60\u001b[0m \u001b[43m        \u001b[49m\u001b[43mconfig\u001b[49m\u001b[38;5;241;43m=\u001b[39;49m\u001b[43mconfig\u001b[49m\u001b[43m,\u001b[49m\n\u001b[1;32m     61\u001b[0m \u001b[43m    \u001b[49m\u001b[43m)\u001b[49m\n",
      "File \u001b[0;32m~/anaconda3/lib/python3.9/site-packages/spacy/util.py:444\u001b[0m, in \u001b[0;36mload_model\u001b[0;34m(name, vocab, disable, enable, exclude, config)\u001b[0m\n\u001b[1;32m    442\u001b[0m         \u001b[38;5;28;01mreturn\u001b[39;00m load_model_from_package(name, \u001b[38;5;241m*\u001b[39m\u001b[38;5;241m*\u001b[39mkwargs)  \u001b[38;5;66;03m# type: ignore[arg-type]\u001b[39;00m\n\u001b[1;32m    443\u001b[0m     \u001b[38;5;28;01mif\u001b[39;00m Path(name)\u001b[38;5;241m.\u001b[39mexists():  \u001b[38;5;66;03m# path to model data directory\u001b[39;00m\n\u001b[0;32m--> 444\u001b[0m         \u001b[38;5;28;01mreturn\u001b[39;00m \u001b[43mload_model_from_path\u001b[49m\u001b[43m(\u001b[49m\u001b[43mPath\u001b[49m\u001b[43m(\u001b[49m\u001b[43mname\u001b[49m\u001b[43m)\u001b[49m\u001b[43m,\u001b[49m\u001b[43m \u001b[49m\u001b[38;5;241;43m*\u001b[39;49m\u001b[38;5;241;43m*\u001b[39;49m\u001b[43mkwargs\u001b[49m\u001b[43m)\u001b[49m  \u001b[38;5;66;03m# type: ignore[arg-type]\u001b[39;00m\n\u001b[1;32m    445\u001b[0m \u001b[38;5;28;01melif\u001b[39;00m \u001b[38;5;28mhasattr\u001b[39m(name, \u001b[38;5;124m\"\u001b[39m\u001b[38;5;124mexists\u001b[39m\u001b[38;5;124m\"\u001b[39m):  \u001b[38;5;66;03m# Path or Path-like to model data\u001b[39;00m\n\u001b[1;32m    446\u001b[0m     \u001b[38;5;28;01mreturn\u001b[39;00m load_model_from_path(name, \u001b[38;5;241m*\u001b[39m\u001b[38;5;241m*\u001b[39mkwargs)  \u001b[38;5;66;03m# type: ignore[arg-type]\u001b[39;00m\n",
      "File \u001b[0;32m~/anaconda3/lib/python3.9/site-packages/spacy/util.py:516\u001b[0m, in \u001b[0;36mload_model_from_path\u001b[0;34m(model_path, meta, vocab, disable, enable, exclude, config)\u001b[0m\n\u001b[1;32m    514\u001b[0m overrides \u001b[38;5;241m=\u001b[39m dict_to_dot(config)\n\u001b[1;32m    515\u001b[0m config \u001b[38;5;241m=\u001b[39m load_config(config_path, overrides\u001b[38;5;241m=\u001b[39moverrides)\n\u001b[0;32m--> 516\u001b[0m nlp \u001b[38;5;241m=\u001b[39m \u001b[43mload_model_from_config\u001b[49m\u001b[43m(\u001b[49m\n\u001b[1;32m    517\u001b[0m \u001b[43m    \u001b[49m\u001b[43mconfig\u001b[49m\u001b[43m,\u001b[49m\n\u001b[1;32m    518\u001b[0m \u001b[43m    \u001b[49m\u001b[43mvocab\u001b[49m\u001b[38;5;241;43m=\u001b[39;49m\u001b[43mvocab\u001b[49m\u001b[43m,\u001b[49m\n\u001b[1;32m    519\u001b[0m \u001b[43m    \u001b[49m\u001b[43mdisable\u001b[49m\u001b[38;5;241;43m=\u001b[39;49m\u001b[43mdisable\u001b[49m\u001b[43m,\u001b[49m\n\u001b[1;32m    520\u001b[0m \u001b[43m    \u001b[49m\u001b[43menable\u001b[49m\u001b[38;5;241;43m=\u001b[39;49m\u001b[43menable\u001b[49m\u001b[43m,\u001b[49m\n\u001b[1;32m    521\u001b[0m \u001b[43m    \u001b[49m\u001b[43mexclude\u001b[49m\u001b[38;5;241;43m=\u001b[39;49m\u001b[43mexclude\u001b[49m\u001b[43m,\u001b[49m\n\u001b[1;32m    522\u001b[0m \u001b[43m    \u001b[49m\u001b[43mmeta\u001b[49m\u001b[38;5;241;43m=\u001b[39;49m\u001b[43mmeta\u001b[49m\u001b[43m,\u001b[49m\n\u001b[1;32m    523\u001b[0m \u001b[43m\u001b[49m\u001b[43m)\u001b[49m\n\u001b[1;32m    524\u001b[0m \u001b[38;5;28;01mreturn\u001b[39;00m nlp\u001b[38;5;241m.\u001b[39mfrom_disk(model_path, exclude\u001b[38;5;241m=\u001b[39mexclude, overrides\u001b[38;5;241m=\u001b[39moverrides)\n",
      "File \u001b[0;32m~/anaconda3/lib/python3.9/site-packages/spacy/util.py:564\u001b[0m, in \u001b[0;36mload_model_from_config\u001b[0;34m(config, meta, vocab, disable, enable, exclude, auto_fill, validate)\u001b[0m\n\u001b[1;32m    561\u001b[0m \u001b[38;5;66;03m# This will automatically handle all codes registered via the languages\u001b[39;00m\n\u001b[1;32m    562\u001b[0m \u001b[38;5;66;03m# registry, including custom subclasses provided via entry points\u001b[39;00m\n\u001b[1;32m    563\u001b[0m lang_cls \u001b[38;5;241m=\u001b[39m get_lang_class(nlp_config[\u001b[38;5;124m\"\u001b[39m\u001b[38;5;124mlang\u001b[39m\u001b[38;5;124m\"\u001b[39m])\n\u001b[0;32m--> 564\u001b[0m nlp \u001b[38;5;241m=\u001b[39m \u001b[43mlang_cls\u001b[49m\u001b[38;5;241;43m.\u001b[39;49m\u001b[43mfrom_config\u001b[49m\u001b[43m(\u001b[49m\n\u001b[1;32m    565\u001b[0m \u001b[43m    \u001b[49m\u001b[43mconfig\u001b[49m\u001b[43m,\u001b[49m\n\u001b[1;32m    566\u001b[0m \u001b[43m    \u001b[49m\u001b[43mvocab\u001b[49m\u001b[38;5;241;43m=\u001b[39;49m\u001b[43mvocab\u001b[49m\u001b[43m,\u001b[49m\n\u001b[1;32m    567\u001b[0m \u001b[43m    \u001b[49m\u001b[43mdisable\u001b[49m\u001b[38;5;241;43m=\u001b[39;49m\u001b[43mdisable\u001b[49m\u001b[43m,\u001b[49m\n\u001b[1;32m    568\u001b[0m \u001b[43m    \u001b[49m\u001b[43menable\u001b[49m\u001b[38;5;241;43m=\u001b[39;49m\u001b[43menable\u001b[49m\u001b[43m,\u001b[49m\n\u001b[1;32m    569\u001b[0m \u001b[43m    \u001b[49m\u001b[43mexclude\u001b[49m\u001b[38;5;241;43m=\u001b[39;49m\u001b[43mexclude\u001b[49m\u001b[43m,\u001b[49m\n\u001b[1;32m    570\u001b[0m \u001b[43m    \u001b[49m\u001b[43mauto_fill\u001b[49m\u001b[38;5;241;43m=\u001b[39;49m\u001b[43mauto_fill\u001b[49m\u001b[43m,\u001b[49m\n\u001b[1;32m    571\u001b[0m \u001b[43m    \u001b[49m\u001b[43mvalidate\u001b[49m\u001b[38;5;241;43m=\u001b[39;49m\u001b[43mvalidate\u001b[49m\u001b[43m,\u001b[49m\n\u001b[1;32m    572\u001b[0m \u001b[43m    \u001b[49m\u001b[43mmeta\u001b[49m\u001b[38;5;241;43m=\u001b[39;49m\u001b[43mmeta\u001b[49m\u001b[43m,\u001b[49m\n\u001b[1;32m    573\u001b[0m \u001b[43m\u001b[49m\u001b[43m)\u001b[49m\n\u001b[1;32m    574\u001b[0m \u001b[38;5;28;01mreturn\u001b[39;00m nlp\n",
      "File \u001b[0;32m~/anaconda3/lib/python3.9/site-packages/spacy/language.py:1803\u001b[0m, in \u001b[0;36mLanguage.from_config\u001b[0;34m(cls, config, vocab, disable, enable, exclude, meta, auto_fill, validate)\u001b[0m\n\u001b[1;32m   1800\u001b[0m     factory \u001b[38;5;241m=\u001b[39m pipe_cfg\u001b[38;5;241m.\u001b[39mpop(\u001b[38;5;124m\"\u001b[39m\u001b[38;5;124mfactory\u001b[39m\u001b[38;5;124m\"\u001b[39m)\n\u001b[1;32m   1801\u001b[0m     \u001b[38;5;66;03m# The pipe name (key in the config) here is the unique name\u001b[39;00m\n\u001b[1;32m   1802\u001b[0m     \u001b[38;5;66;03m# of the component, not necessarily the factory\u001b[39;00m\n\u001b[0;32m-> 1803\u001b[0m     \u001b[43mnlp\u001b[49m\u001b[38;5;241;43m.\u001b[39;49m\u001b[43madd_pipe\u001b[49m\u001b[43m(\u001b[49m\n\u001b[1;32m   1804\u001b[0m \u001b[43m        \u001b[49m\u001b[43mfactory\u001b[49m\u001b[43m,\u001b[49m\n\u001b[1;32m   1805\u001b[0m \u001b[43m        \u001b[49m\u001b[43mname\u001b[49m\u001b[38;5;241;43m=\u001b[39;49m\u001b[43mpipe_name\u001b[49m\u001b[43m,\u001b[49m\n\u001b[1;32m   1806\u001b[0m \u001b[43m        \u001b[49m\u001b[43mconfig\u001b[49m\u001b[38;5;241;43m=\u001b[39;49m\u001b[43mpipe_cfg\u001b[49m\u001b[43m,\u001b[49m\n\u001b[1;32m   1807\u001b[0m \u001b[43m        \u001b[49m\u001b[43mvalidate\u001b[49m\u001b[38;5;241;43m=\u001b[39;49m\u001b[43mvalidate\u001b[49m\u001b[43m,\u001b[49m\n\u001b[1;32m   1808\u001b[0m \u001b[43m        \u001b[49m\u001b[43mraw_config\u001b[49m\u001b[38;5;241;43m=\u001b[39;49m\u001b[43mraw_config\u001b[49m\u001b[43m,\u001b[49m\n\u001b[1;32m   1809\u001b[0m \u001b[43m    \u001b[49m\u001b[43m)\u001b[49m\n\u001b[1;32m   1810\u001b[0m \u001b[38;5;28;01melse\u001b[39;00m:\n\u001b[1;32m   1811\u001b[0m     \u001b[38;5;66;03m# We need the sourced components to reference the same\u001b[39;00m\n\u001b[1;32m   1812\u001b[0m     \u001b[38;5;66;03m# vocab without modifying the current vocab state **AND**\u001b[39;00m\n\u001b[0;32m   (...)\u001b[0m\n\u001b[1;32m   1817\u001b[0m     \u001b[38;5;66;03m# during deserialization, so they do not need any\u001b[39;00m\n\u001b[1;32m   1818\u001b[0m     \u001b[38;5;66;03m# additional handling.\u001b[39;00m\n\u001b[1;32m   1819\u001b[0m     \u001b[38;5;28;01mif\u001b[39;00m vocab_b \u001b[38;5;129;01mis\u001b[39;00m \u001b[38;5;28;01mNone\u001b[39;00m:\n",
      "File \u001b[0;32m~/anaconda3/lib/python3.9/site-packages/spacy/language.py:786\u001b[0m, in \u001b[0;36mLanguage.add_pipe\u001b[0;34m(self, factory_name, name, before, after, first, last, source, config, raw_config, validate)\u001b[0m\n\u001b[1;32m    782\u001b[0m     pipe_component, factory_name \u001b[38;5;241m=\u001b[39m \u001b[38;5;28mself\u001b[39m\u001b[38;5;241m.\u001b[39mcreate_pipe_from_source(\n\u001b[1;32m    783\u001b[0m         factory_name, source, name\u001b[38;5;241m=\u001b[39mname\n\u001b[1;32m    784\u001b[0m     )\n\u001b[1;32m    785\u001b[0m \u001b[38;5;28;01melse\u001b[39;00m:\n\u001b[0;32m--> 786\u001b[0m     pipe_component \u001b[38;5;241m=\u001b[39m \u001b[38;5;28;43mself\u001b[39;49m\u001b[38;5;241;43m.\u001b[39;49m\u001b[43mcreate_pipe\u001b[49m\u001b[43m(\u001b[49m\n\u001b[1;32m    787\u001b[0m \u001b[43m        \u001b[49m\u001b[43mfactory_name\u001b[49m\u001b[43m,\u001b[49m\n\u001b[1;32m    788\u001b[0m \u001b[43m        \u001b[49m\u001b[43mname\u001b[49m\u001b[38;5;241;43m=\u001b[39;49m\u001b[43mname\u001b[49m\u001b[43m,\u001b[49m\n\u001b[1;32m    789\u001b[0m \u001b[43m        \u001b[49m\u001b[43mconfig\u001b[49m\u001b[38;5;241;43m=\u001b[39;49m\u001b[43mconfig\u001b[49m\u001b[43m,\u001b[49m\n\u001b[1;32m    790\u001b[0m \u001b[43m        \u001b[49m\u001b[43mraw_config\u001b[49m\u001b[38;5;241;43m=\u001b[39;49m\u001b[43mraw_config\u001b[49m\u001b[43m,\u001b[49m\n\u001b[1;32m    791\u001b[0m \u001b[43m        \u001b[49m\u001b[43mvalidate\u001b[49m\u001b[38;5;241;43m=\u001b[39;49m\u001b[43mvalidate\u001b[49m\u001b[43m,\u001b[49m\n\u001b[1;32m    792\u001b[0m \u001b[43m    \u001b[49m\u001b[43m)\u001b[49m\n\u001b[1;32m    793\u001b[0m pipe_index \u001b[38;5;241m=\u001b[39m \u001b[38;5;28mself\u001b[39m\u001b[38;5;241m.\u001b[39m_get_pipe_index(before, after, first, last)\n\u001b[1;32m    794\u001b[0m \u001b[38;5;28mself\u001b[39m\u001b[38;5;241m.\u001b[39m_pipe_meta[name] \u001b[38;5;241m=\u001b[39m \u001b[38;5;28mself\u001b[39m\u001b[38;5;241m.\u001b[39mget_factory_meta(factory_name)\n",
      "File \u001b[0;32m~/anaconda3/lib/python3.9/site-packages/spacy/language.py:660\u001b[0m, in \u001b[0;36mLanguage.create_pipe\u001b[0;34m(self, factory_name, name, config, raw_config, validate)\u001b[0m\n\u001b[1;32m    652\u001b[0m \u001b[38;5;28;01mif\u001b[39;00m \u001b[38;5;129;01mnot\u001b[39;00m \u001b[38;5;28mself\u001b[39m\u001b[38;5;241m.\u001b[39mhas_factory(factory_name):\n\u001b[1;32m    653\u001b[0m     err \u001b[38;5;241m=\u001b[39m Errors\u001b[38;5;241m.\u001b[39mE002\u001b[38;5;241m.\u001b[39mformat(\n\u001b[1;32m    654\u001b[0m         name\u001b[38;5;241m=\u001b[39mfactory_name,\n\u001b[1;32m    655\u001b[0m         opts\u001b[38;5;241m=\u001b[39m\u001b[38;5;124m\"\u001b[39m\u001b[38;5;124m, \u001b[39m\u001b[38;5;124m\"\u001b[39m\u001b[38;5;241m.\u001b[39mjoin(\u001b[38;5;28mself\u001b[39m\u001b[38;5;241m.\u001b[39mfactory_names),\n\u001b[0;32m   (...)\u001b[0m\n\u001b[1;32m    658\u001b[0m         lang_code\u001b[38;5;241m=\u001b[39m\u001b[38;5;28mself\u001b[39m\u001b[38;5;241m.\u001b[39mlang,\n\u001b[1;32m    659\u001b[0m     )\n\u001b[0;32m--> 660\u001b[0m     \u001b[38;5;28;01mraise\u001b[39;00m \u001b[38;5;167;01mValueError\u001b[39;00m(err)\n\u001b[1;32m    661\u001b[0m pipe_meta \u001b[38;5;241m=\u001b[39m \u001b[38;5;28mself\u001b[39m\u001b[38;5;241m.\u001b[39mget_factory_meta(factory_name)\n\u001b[1;32m    662\u001b[0m \u001b[38;5;66;03m# This is unideal, but the alternative would mean you always need to\u001b[39;00m\n\u001b[1;32m    663\u001b[0m \u001b[38;5;66;03m# specify the full config settings, which is not really viable.\u001b[39;00m\n",
      "\u001b[0;31mValueError\u001b[0m: [E002] Can't find factory for 'transformer' for language Bengali (bn). This usually happens when spaCy calls `nlp.create_pipe` with a custom component name that's not registered on the current language class. If you're using a Transformer, make sure to install 'spacy-transformers'. If you're using a custom component, make sure you've added the decorator `@Language.component` (for function components) or `@Language.factory` (for class components).\n\nAvailable factories: attribute_ruler, tok2vec, merge_noun_chunks, merge_entities, merge_subtokens, token_splitter, doc_cleaner, parser, beam_parser, lemmatizer, trainable_lemmatizer, entity_linker, ner, beam_ner, entity_ruler, tagger, morphologizer, senter, sentencizer, textcat, spancat, spancat_singlelabel, future_entity_ruler, span_ruler, textcat_multilabel, bn.lemmatizer"
     ]
    }
   ],
   "source": [
    "text_list = [\n",
    "    \"বিএনপি নেতাদের সবচেয়ে বড় দুর্বলতা তাঁরা রাজনৈতিক কর্মী আর সন্ত্রাসী গুলিয়ে ফেলেছেন বলে মন্তব্য করেছেন তথ্যমন্ত্রী হাছান মাহমুদ\",\n",
    "    \"আব্দুর রহিম নামের কাস্টমারকে একশ টাকা বাকি দিলাম\",\n",
    "    \"পুতিনের দুর্বলতা ফাঁস করে দিয়েছে ভাগনার\",\n",
    "    \"এবার বাবা শাহরুখের ছবিতে অভিনয় করবেন সুহানা\",\n",
    "    \"বিনা প্রতিদ্বন্দ্বিতায় বান্দরবান পৌরসভার মেয়র হলেন আওয়ামী লীগের শামসুল\",\n",
    "    \"রাত সাড়ে নয়টার দিকে রিটার্নিং কর্মকর্তা ফয়সল কাদের বেসরকারিভাবে আওয়ামী লীগের প্রার্থী মো. আনোয়ারুজ্জামান চৌধুরীকে বিজয়ী ঘোষণা করেন\",\n",
    "    \" যাঁরা জায়েদ খানের পারফরম্যান্স দেখতে চান, তাঁরা আগামী দিনে ওয়াশিংটনে গেলে দেখতে পাবেন।\",\n",
    "    \"হাট এলাকার এক বাসিন্দা লোকমান বলেন, এসব মাংস পরিবারের খাবারের জন্য কিছুটা রেখে বাকি মাংস হাটে এনে কম দামে বিক্রি করে সংসারের খরচ মেটান অনেকেই।\",  \n",
    "    \"কটিয়াদীর গছিহাটা থেকে আসা সবুজ বলেন, আমি গরীব অসহায় লোক। সাত কেজি মাংস পাইছি, রান্নার জন্য দুই কেজি রাইখা বাকিটা বেইচা দিচ্ছি।\" ,\n",
    "    \"ফিরোজায় খালেদা জিয়ার সঙ্গে ছয় নেতার ঈদের শুভেচ্ছা বিনিময়\",\n",
    "    \"বিএনপি চেয়ারপারসন আমাদের মাধ্যমে দেশবাসীকে ঈদের শুভেচ্ছা ঈদ মোবারক জানিয়েছেন।\",\n",
    "    \"ড. হাছান বলেন, দেশ যখন জননেত্রী শেখ হাসিনার নেতৃত্বে এগিয়ে যাচ্ছে, তখন দেশি-বিদেশি নানা ষড়যন্ত্র শুরু হয়েছে।\",\n",
    "    \"বিভেদ ভুলে ঐক্যবদ্ধ হওয়ার আহ্বান ওবায়দুল কাদেরের\",\n",
    "    \"বিদেশি তিন শিক্ষার্থীরা হলেন মোহাম্মদ আলম, রাম মেহেতা ও রাবি কুমার যাদব।\",\n",
    "    \"বিশ্ববিদ্যালয়ের কোষাধ্যক্ষ অধ্যাপক ড. নেওয়াজ মোহাম্মদ বাহাদুর বলেন, তাদের সঙ্গে ঈদ আনন্দ ভাগাভাগি করতে পেরে আমরাও আনন্দিত।\",\n",
    "    \"ক্যারিয়ারের সায়াহ্নে থাকা শন উইলিয়ামস তিনে নেমে আরো একটি অবিশ্বাস্য ইনিংস উপহার দেন।\",\n",
    "    \"ক্যানভাসে চোখ রেখে আবারও ছবি তুলতে চান ফটো সাংবাদিক রিপন\",\n",
    "    \"সাংবাদিকদের মাধ্যমে সারা দেশের মানুষকে ঈদের শুভেচ্ছা জানান সাকিব আল হাসান\",\n",
    "    \"আগুন নিয়ন্ত্রণে ফায়ার সার্ভিসের ১২টি ইউনিট সেখানে গেছে বলে জানিয়েছেন ফায়ার সার্ভিস ও সিভিল ডিফেন্সের মিডিয়া সেলের কর্মকর্তা আনোয়ার হোসেন।\",\n",
    "    \"বাড়ি আনার পর বাছুরটি নিয়ে ব্যস্ত হয়ে পড়ে আকরামের ছোট্ট মেয়ে অর্থি।\",\n",
    "    \"তবে সবচেয়ে বেশি ক্ষোভ দেখা গেছে সাধারণ সম্পাদক পদ পাওয়া আমিনুল হককে নিয়ে। \",\n",
    "    \"ওই প্রতিবেদনে চুরির জন্য জিম্মাদার হিসেবে রুহুল্লাহ চৌধুরীর দায় রয়েছে বলে উল্লেখ করা হয়।\",\n",
    "    \"পুলিশ জানায়, গ্রেপ্তার সোহাগ আলী প্রাথমিক জিজ্ঞাসাবাদে রুবেল শেখ হত্যাকাণ্ডে জড়িত থাকার কথা স্বীকার করেছেন।\",\n",
    "    \"‘বিগ বস’ থেকে বিদায়ের পর সালমানকে ধুয়ে দিলেন আলিয়া সিদ্দিকী\",\n",
    "    \"ঢালিউডের একসময়ের দাপুটে অভিনয়শিল্পী শাবনূর এখন অস্ট্রেলিয়া থাকেন।\",\n",
    "    \"রাজশাহী সিটি করপোরেশন নির্বাচনে এক রকম নিরুত্তাপ ভোটে টানা দ্বিতীয়বারের মতো নির্বাচিত হয়েছেন খায়রুজ্জামান।\",\n",
    "    \"নগরের বাদুড়তলা ঈদগাহ মাঠে নামাজ আদায় করেছেন বিএনপির রাজশাহী মহানগরের আহ্বায়ক এরশাদ আলী।\",\n",
    "    \"ঈদের দিন কাজে ব্যস্ত নরসিংদী ফায়ার সার্ভিসের ফায়ার ফাইটার আতিকুল ইসলাম ।\",\n",
    "    \"ঈদের দিন নরসিংদীতে সোনালী ব্যাকের এটিএম বুথে নিরাপত্তার দায়িত্বে নিয়োজিত মো. আমির হোসেন ।\",\n",
    "    \"ঈদের দিন নরসিংদী শহরে ব্যাটারিচালিত রিকশা চালাচ্ছেন নীলফামারীর ডিমলা এলাকার আবু তালেব ।\",\n",
    "    \"সবজির বাগান করে মাসে লাখ টাকা আয় করেন আবদুল হালিম ও ওসমান গণি।\",\n",
    "    \" ষাটোর্ধ্ব আক্কাস আলী বলেন, নাতির সঙ্গে মোটরসাইকেলে করে সেতু দেখতে এসেছেন তিনি।\",\n",
    "    \"সেতুতে যানজট নিরসনে কাজ করছিলেন কুমারখালী পুলিশ ফাঁড়ির পরিদর্শক শফিকুল ইসলাম। \",\n",
    "    \"অটোরিকশাচালক মামুন ঈদের সময় বাড়তি আয়ের আশায় চুক্তিতে কোরবানির পশু জবাই করেন \",\n",
    "    \"ঢাকার হাতিরপুল এলাকায় কোরবানির সময় গরু পা ছুটে বাম হাতে লাগে মতিউর রহমানের\",\n",
    "    \"এতে মোটরসাইকেল চালক মো. শামীম (৩৭) ও তাঁর চাচাতো বোন জান্নাত (২০) নিহত হন\",\n",
    "    \"মো. আরিফ পুতুল ও রিংয়ের দোকান দিয়েছেন।\",\n",
    "\n",
    "\n",
    "\n",
    "\n",
    "\n",
    "জহিরুল ইসলাম বলেন, ‘বৃষ্টি কমলে বিকেলে ঘুরতে বের হই। লালবাগ, রমনা ঘুরে এখানে এসেছি। \n",
    "\n",
    "সালমান কড়া ভাষায় বলেছিলেন, ‘বিগ বস ওটিটি’-তে আলিয়া নিজের ব্যক্তিগত জীবন নিয়ে কাটাছেঁড়া করতে পারবেন না। \n",
    "\n",
    "গত এক দশকেরও বেশি সময় ধরে ঈদুল ফিতর প্রায় নিজের করে রেখেছেন সালমান খান।\n",
    "\n",
    "\n",
    "আজ সকালেই ভারতের প্রধানমন্ত্রী নরেন্দ্র সিং মোদি দেশবাসীর উদ্দেশে ঈদের শুভকামনা জানিয়ে টুইট করেছেন।\n",
    "\n",
    "হাসনিপুর গ্রামের এজাজুল বাশার ওরফে স্বপনের স্ত্রী\n",
    "\n",
    "রাফিউলের শরীরের ৫০ শতাংশ ও রাশেদুলের শরীরের ২২ শতাংশ পুড়ে গেছে। \n",
    "\n",
    "বাগমারা থানার ভারপ্রাপ্ত কর্মকর্তা (ওসি) আমিনুল ইসলাম এ খবরের সত্যতা নিশ্চিত করেছেন।\n",
    "\n",
    "ডিমলা উপজেলার পূর্ব ছাতনাই ইউনিয়ন পরিষদের (ইউপি) চেয়ারম্যান আবদুল লতিফ খান বলেন, ‘তিস্তার ঢলে আমার ইউনিয়নের ঝাড়সিহেশ্বর ও পূর্ব ছাতনাই গ্রামে পানি ঢুকতে শুরু করেছে।’\n",
    "\n",
    "পরিবারের সঙ্গে ঈদ করতে সাকিব এখন মাগুরায়। \n",
    "\n",
    "নিহত দুজন হলেন প্রাইভেট কারের চালক মিজান মিয়া (৩৫) ও প্রাইভেট কারের যাত্রী আবুল বাশার মিয়া \n",
    "\n",
    "চারদিক থেকে সরকারের বিরুদ্ধে অন্ধকার ধেয়ে আসছে বলে মন্তব্য করেছেন বিএনপির জ্যেষ্ঠ যুগ্ম মহাসচিব রুহুল কবির রিজভী। \n",
    "\n",
    "সংবাদ সম্মেলনে আরও উপস্থিত ছিলেন বিএনপির যুব মহাসচিব হাবিবুর নবী খান সোহেল, দলের স্বেচ্ছাসেবকবিষয়ক সম্পাদক শরাফত আলী, নির্বাহী কমিটির সদস্য তারিকুল আলম প্রমুখ।\n",
    "\n",
    "স্থায়ী কমিটির সদস্যদের মধ্যে ছিলেন জমির উদ্দিন সরকার, মির্জা আব্বাস, গয়েশ্বর চন্দ্র রায়, নজরুল ইসলাম খান, আবদুল মঈন খান ও সেলিমা রহমান।\n",
    "\n",
    "সামনে জাতীয় সংসদ নির্বাচনে বিএনপিসহ সব দল অংশ নেবে বলে আশাবাদ ব্যক্ত করেছেন আওয়ামী লীগের সভাপতিমণ্ডলীর সদস্য ও রাজশাহী সিটি করপোরেশনের নবনির্বাচিত মেয়র এ এইচ এম খায়রুজ্জামান লিটন।\n",
    "\n",
    "]"
   ]
  },
  {
   "cell_type": "code",
   "execution_count": null,
   "id": "b5223bf1",
   "metadata": {},
   "outputs": [
    {
     "name": "stdout",
     "output_type": "stream",
     "text": [
      "Collecting spacy-transformers\n",
      "  Using cached spacy_transformers-1.2.5-cp39-cp39-manylinux_2_17_x86_64.manylinux2014_x86_64.whl (193 kB)\n",
      "Collecting torch>=1.8.0\n",
      "  Downloading torch-2.0.1-cp39-cp39-manylinux1_x86_64.whl (619.9 MB)\n",
      "\u001b[K     |████▋                           | 88.6 MB 361 kB/s eta 0:24:29"
     ]
    }
   ],
   "source": [
    "!pip install spacy-transformers"
   ]
  },
  {
   "cell_type": "code",
   "execution_count": null,
   "id": "ce0b54e2",
   "metadata": {},
   "outputs": [],
   "source": []
  },
  {
   "cell_type": "code",
   "execution_count": null,
   "id": "1ce351b7",
   "metadata": {},
   "outputs": [],
   "source": []
  }
 ],
 "metadata": {
  "kernelspec": {
   "display_name": "Python 3 (ipykernel)",
   "language": "python",
   "name": "python3"
  },
  "language_info": {
   "codemirror_mode": {
    "name": "ipython",
    "version": 3
   },
   "file_extension": ".py",
   "mimetype": "text/x-python",
   "name": "python",
   "nbconvert_exporter": "python",
   "pygments_lexer": "ipython3",
   "version": "3.9.12"
  }
 },
 "nbformat": 4,
 "nbformat_minor": 5
}
